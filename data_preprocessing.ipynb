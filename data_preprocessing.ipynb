{
 "cells": [
  {
   "cell_type": "markdown",
   "id": "5f7b9dce-a917-4404-8636-21295453a74d",
   "metadata": {},
   "source": [
    "## Data Preprocessing"
   ]
  },
  {
   "cell_type": "markdown",
   "id": "85926004-ef6d-41c7-bedb-0b5700d65626",
   "metadata": {},
   "source": [
    "## Import Libraries"
   ]
  },
  {
   "cell_type": "code",
   "execution_count": 1,
   "id": "e7d0a53c-c3b6-4df0-bfac-313201df6672",
   "metadata": {},
   "outputs": [],
   "source": [
    "import numpy as np\n",
    "import pandas as pd\n",
    "import matplotlib.pyplot as plt"
   ]
  },
  {
   "cell_type": "markdown",
   "id": "6b894367-a1b4-4ebc-8971-0320b50ac1d5",
   "metadata": {},
   "source": [
    "## Import Dataset"
   ]
  },
  {
   "cell_type": "code",
   "execution_count": 2,
   "id": "8640787c-a8d1-4628-a1bd-71c518422491",
   "metadata": {},
   "outputs": [],
   "source": [
    "dataset = pd.read_csv(\"Data.csv\")\n",
    "x = dataset.iloc[:,:-1].values\n",
    "y = dataset.iloc[:,-1].values"
   ]
  },
  {
   "cell_type": "markdown",
   "id": "52d5e0e3-b471-43d0-a057-40d01f2a941e",
   "metadata": {},
   "source": [
    "## Solve for missing data"
   ]
  },
  {
   "cell_type": "code",
   "execution_count": 5,
   "id": "67e666f6-8c08-4661-a845-a8681f74ed3a",
   "metadata": {},
   "outputs": [],
   "source": [
    "from sklearn.impute import SimpleImputer\n",
    "imputer = SimpleImputer(missing_values = np.nan, strategy = 'mean')\n",
    "imputer.fit(x[:, 1:3])\n",
    "x[:, 1:3] = imputer.transform(x[:,1:3])\n"
   ]
  },
  {
   "cell_type": "code",
   "execution_count": 6,
   "id": "d324fcdc-3abf-4aa4-9b9e-647936acd503",
   "metadata": {},
   "outputs": [
    {
     "name": "stdout",
     "output_type": "stream",
     "text": [
      "[['India' 44.0 72000.0]\n",
      " ['Thailand ' 27.0 48000.0]\n",
      " ['Indonesia' 30.0 54000.0]\n",
      " ['China' 38.0 61000.0]\n",
      " ['India' 40.0 62562.5]\n",
      " ['China' 35.0 58000.0]\n",
      " ['Thailand ' 38.5625 52000.0]\n",
      " ['India' 48.0 79000.0]\n",
      " ['Indonesia' 50.0 83000.0]\n",
      " ['Thailand ' 37.0 67000.0]\n",
      " ['India' 25.0 62562.5]\n",
      " ['Thailand ' 36.0 60000.0]\n",
      " ['Indonesia' 42.0 64000.0]\n",
      " ['India' 38.5625 40000.0]\n",
      " ['Thailand ' 52.0 90000.0]\n",
      " ['Indonesia' 38.5625 55000.0]\n",
      " ['China' 41.0 62562.5]\n",
      " ['India' 29.0 48000.0]\n",
      " ['China' 43.0 70000.0]]\n"
     ]
    }
   ],
   "source": [
    "print(x)"
   ]
  },
  {
   "cell_type": "markdown",
   "id": "78354dcf-b519-4b6f-99b3-1a706fcde6e3",
   "metadata": {},
   "source": [
    "## Encoding the categorical data"
   ]
  },
  {
   "cell_type": "markdown",
   "id": "1160f4e6-d447-4545-9eaf-79805346e74b",
   "metadata": {},
   "source": [
    "## Encoding Independent variable"
   ]
  },
  {
   "cell_type": "code",
   "execution_count": 7,
   "id": "50bc3a2d-b13f-472b-bb37-79dabd77bd05",
   "metadata": {},
   "outputs": [],
   "source": [
    "from sklearn.compose import ColumnTransformer\n",
    "from sklearn.preprocessing import OneHotEncoder\n",
    "\n",
    "ct = ColumnTransformer(transformers = [('encoder',OneHotEncoder(), [0])], remainder = 'passthrough')\n",
    "x = np.array(ct.fit_transform(x))"
   ]
  },
  {
   "cell_type": "code",
   "execution_count": 8,
   "id": "cbdb0d62-55b3-4072-9609-f02975e50983",
   "metadata": {},
   "outputs": [
    {
     "name": "stdout",
     "output_type": "stream",
     "text": [
      "[[0.0 1.0 0.0 0.0 44.0 72000.0]\n",
      " [0.0 0.0 0.0 1.0 27.0 48000.0]\n",
      " [0.0 0.0 1.0 0.0 30.0 54000.0]\n",
      " [1.0 0.0 0.0 0.0 38.0 61000.0]\n",
      " [0.0 1.0 0.0 0.0 40.0 62562.5]\n",
      " [1.0 0.0 0.0 0.0 35.0 58000.0]\n",
      " [0.0 0.0 0.0 1.0 38.5625 52000.0]\n",
      " [0.0 1.0 0.0 0.0 48.0 79000.0]\n",
      " [0.0 0.0 1.0 0.0 50.0 83000.0]\n",
      " [0.0 0.0 0.0 1.0 37.0 67000.0]\n",
      " [0.0 1.0 0.0 0.0 25.0 62562.5]\n",
      " [0.0 0.0 0.0 1.0 36.0 60000.0]\n",
      " [0.0 0.0 1.0 0.0 42.0 64000.0]\n",
      " [0.0 1.0 0.0 0.0 38.5625 40000.0]\n",
      " [0.0 0.0 0.0 1.0 52.0 90000.0]\n",
      " [0.0 0.0 1.0 0.0 38.5625 55000.0]\n",
      " [1.0 0.0 0.0 0.0 41.0 62562.5]\n",
      " [0.0 1.0 0.0 0.0 29.0 48000.0]\n",
      " [1.0 0.0 0.0 0.0 43.0 70000.0]]\n"
     ]
    }
   ],
   "source": [
    "print(x)"
   ]
  },
  {
   "cell_type": "markdown",
   "id": "5ea317f5-4dd6-47ea-a1ae-3eed165ce842",
   "metadata": {},
   "source": [
    "## Encoding the dependent Variable"
   ]
  },
  {
   "cell_type": "code",
   "execution_count": 10,
   "id": "461d9c71-6a43-49d3-901a-ee870019f05b",
   "metadata": {},
   "outputs": [],
   "source": [
    "from sklearn.preprocessing import LabelEncoder\n",
    "le = LabelEncoder()\n",
    "y = le.fit_transform(y)"
   ]
  },
  {
   "cell_type": "code",
   "execution_count": 11,
   "id": "207d6ac6-fadb-4d87-bbdd-5db4f3ce2efb",
   "metadata": {},
   "outputs": [
    {
     "name": "stdout",
     "output_type": "stream",
     "text": [
      "[0 1 0 0 1 1 0 1 0 1 0 0 1 1 1 0 1 0 1]\n"
     ]
    }
   ],
   "source": [
    "print(y)"
   ]
  },
  {
   "cell_type": "markdown",
   "id": "3bdc6e9e-ff6d-4622-b9a7-d2cf3f459f7d",
   "metadata": {},
   "source": [
    "## Splitting the dataset into the Train and Test set"
   ]
  },
  {
   "cell_type": "code",
   "execution_count": 13,
   "id": "55e62ee7-4464-4f1a-ad5e-de8f2c9529bd",
   "metadata": {},
   "outputs": [],
   "source": [
    "from sklearn.model_selection import train_test_split\n",
    "x_train, x_test, y_train, y_test = train_test_split(x,y, test_size = 0.2, random_state = 0)"
   ]
  },
  {
   "cell_type": "code",
   "execution_count": 14,
   "id": "7a1613be-819c-4a5d-94dd-e99c630d19dc",
   "metadata": {},
   "outputs": [
    {
     "name": "stdout",
     "output_type": "stream",
     "text": [
      "[[0.0 1.0 0.0 0.0 25.0 62562.5]\n",
      " [0.0 0.0 0.0 1.0 27.0 48000.0]\n",
      " [0.0 0.0 1.0 0.0 50.0 83000.0]\n",
      " [1.0 0.0 0.0 0.0 43.0 70000.0]]\n"
     ]
    }
   ],
   "source": [
    "print(x_test)"
   ]
  },
  {
   "cell_type": "markdown",
   "id": "ed0d0fcf-790b-4b85-85e0-ee3755d925f7",
   "metadata": {},
   "source": [
    "## Feature Scaling"
   ]
  },
  {
   "cell_type": "code",
   "execution_count": 16,
   "id": "af9e2ac7-b14b-497f-a912-829d23c08c1f",
   "metadata": {},
   "outputs": [],
   "source": [
    "from sklearn.preprocessing import StandardScaler\n",
    "sc = StandardScaler()\n",
    "x_train = sc.fit_transform(x_train)\n",
    "x_test = sc.transform(x_test)"
   ]
  },
  {
   "cell_type": "code",
   "execution_count": 19,
   "id": "d6cbde11-a8d1-4a1f-81a1-6326d0a1ffe2",
   "metadata": {},
   "outputs": [
    {
     "name": "stdout",
     "output_type": "stream",
     "text": [
      "[[-0.5         1.41421356 -0.5        -0.60302269 -2.45567606  0.07474013]\n",
      " [-0.5        -0.70710678 -0.5         1.6583124  -2.10929801 -1.15162956]\n",
      " [-0.5        -0.70710678  2.         -0.60302269  1.87404958  1.79586841]\n",
      " [ 2.         -0.70710678 -0.5        -0.60302269  0.6617264   0.70108345]]\n"
     ]
    }
   ],
   "source": [
    "print(x_test)"
   ]
  },
  {
   "cell_type": "code",
   "execution_count": null,
   "id": "2cb68e1b-922f-4c47-920c-c10f92d6488b",
   "metadata": {},
   "outputs": [],
   "source": []
  }
 ],
 "metadata": {
  "kernelspec": {
   "display_name": "Python 3 (ipykernel)",
   "language": "python",
   "name": "python3"
  },
  "language_info": {
   "codemirror_mode": {
    "name": "ipython",
    "version": 3
   },
   "file_extension": ".py",
   "mimetype": "text/x-python",
   "name": "python",
   "nbconvert_exporter": "python",
   "pygments_lexer": "ipython3",
   "version": "3.12.4"
  }
 },
 "nbformat": 4,
 "nbformat_minor": 5
}
